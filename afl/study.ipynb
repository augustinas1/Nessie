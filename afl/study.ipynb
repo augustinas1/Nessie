{
 "cells": [
  {
   "cell_type": "code",
   "execution_count": null,
   "metadata": {},
   "outputs": [],
   "source": [
    "versioninfo()"
   ]
  },
  {
   "cell_type": "code",
   "execution_count": null,
   "metadata": {},
   "outputs": [],
   "source": [
    "using FiniteStateProjection, DiffEqBase, Sobol, JLD2, Plots\n",
    "\n",
    "include(\"../generate_data.jl\")\n",
    "include(\"../train_NN.jl\")\n",
    "include(\"../viz.jl\")\n",
    "include(\"afl.jl\");"
   ]
  },
  {
   "cell_type": "code",
   "execution_count": null,
   "metadata": {},
   "outputs": [],
   "source": [
    "# set up FSP\n",
    "\n",
    "fsp_sys = FSPSystem(rn_afl, combinatoric_ratelaw=false)\n",
    "state_space = [2, 400]\n",
    "u0 = zeros(state_space...)\n",
    "u0[2, 1] = 1.0\n",
    "fsp_prob = ODEProblem(fsp_sys, u0, (0., 1.), ones(numreactionparams(rn_afl)))\n",
    "solver(ts, p) = fsp_solve(fsp_prob, ts, p; marginals=[2], abstol=1e-6, reltol=1e-6)"
   ]
  },
  {
   "cell_type": "code",
   "execution_count": null,
   "metadata": {},
   "outputs": [],
   "source": [
    "# time snapshots\n",
    "ts = [5, 10, 25, 100]\n",
    "\n",
    "# ranges for afl parameters\n",
    "# σ_u σ_b ρ_u ρ_b\n",
    "ranges = [ 0 2\n",
    "           0 0.1\n",
    "           0 10\n",
    "           0 100 ]\n",
    "\n",
    "s = SobolSeq(ranges[:,1], ranges[:,2])\n",
    "\n",
    "ps_train = [ Sobol.next!(s) for i in 1:1000 ]\n",
    "ps_valid = [ Sobol.next!(s) for i in 1:100 ]\n",
    "ps_test = [ Sobol.next!(s) for i in 1:500 ]\n",
    "\n",
    "X_train, y_train = build_dataset_parallel(ts, ps_train, solver)\n",
    "@save joinpath(AFL_DIR, \"train_data.jld2\") X_train y_train\n",
    "\n",
    "X_valid, y_valid = build_dataset_parallel(ts, ps_valid, solver)\n",
    "@save joinpath(AFL_DIR, \"valid_data.jld2\") X_valid y_valid\n",
    "\n",
    "X_test, y_test = build_dataset_parallel(ts, ps_test, solver)\n",
    "@save joinpath(AFL_DIR, \"test_data.jld2\") X_test y_test\n",
    "\n",
    "train_data = (X_train, y_train)\n",
    "valid_data = (X_valid, y_valid)\n",
    "test_data = (X_test, y_test);"
   ]
  },
  {
   "cell_type": "code",
   "execution_count": null,
   "metadata": {},
   "outputs": [],
   "source": [
    "#@load joinpath(AFL_DIR, \"train_data.jld2\") X_train y_train\n",
    "#@load joinpath(AFL_DIR, \"valid_data.jld2\") X_valid y_valid\n",
    "#@load joinpath(AFL_DIR, \"test_data.jld2\") X_test y_test\n",
    "\n",
    "#train_data = (X_train, y_train)\n",
    "#valid_data = (X_valid, y_valid)\n",
    "#test_data = (X_test, y_test);"
   ]
  },
  {
   "cell_type": "code",
   "execution_count": null,
   "metadata": {},
   "outputs": [],
   "source": [
    "build_model(n_comps::Int, x::Int) = build_model(n_comps, [x])\n",
    "\n",
    "function build_model(n_comps::Int, x::Vector{Int}=[32])\n",
    "    hidden_layers = [Dense(x[i-1], x[i], relu) for i in 2:length(x)]\n",
    "    model = Chain(InputLayer(),\n",
    "                  Dense(1 + numparams(rn_afl), x[1], relu),\n",
    "                  hidden_layers...,\n",
    "                  MNBOutputLayer(x[end], n_comps)\n",
    "            )\n",
    "    MNBModel(model)\n",
    "end"
   ]
  },
  {
   "cell_type": "code",
   "execution_count": null,
   "metadata": {},
   "outputs": [],
   "source": [
    "model = build_model(4, 128)\n",
    "@time train_losses, valid_losses = train_NN!(model, train_data, valid_data; max_rounds=500, lr=0.01, batchsize=64);"
   ]
  },
  {
   "cell_type": "code",
   "execution_count": null,
   "metadata": {},
   "outputs": [],
   "source": [
    "println(\"Training dataset\")\n",
    "println(\"KLD: \", mean_loss(X_train, y_train, model; loss=loss_kldivergence))\n",
    "println(\"Hellinger: \", mean_loss(X_train, y_train, model; loss=loss_hellinger))\n",
    "\n",
    "println(\"\\nValidation dataset\")\n",
    "println(\"KLD: \", mean_loss(X_valid, y_valid, model; loss=loss_kldivergence))\n",
    "println(\"Hellinger: \", mean_loss(X_valid, y_valid, model; loss=loss_hellinger))\n",
    "\n",
    "println(\"\\nTest dataset\")\n",
    "println(\"KLD: \", mean_loss(X_test, y_test, model; loss=loss_kldivergence))\n",
    "println(\"Hellinger: \", mean_loss(X_test, y_test, model; loss=loss_hellinger))\n",
    "\n",
    "#plt = plot([train_losses valid_losses], label=[\"training\" \"validation\"])\n",
    "#@save joinpath(AFL_DIR, \"model.jld2\") model"
   ]
  },
  {
   "cell_type": "code",
   "execution_count": null,
   "metadata": {},
   "outputs": [],
   "source": [
    "#@load joinpath(AFL_DIR, \"model.jld2\") model"
   ]
  },
  {
   "cell_type": "markdown",
   "metadata": {},
   "source": [
    "### Example distributions"
   ]
  },
  {
   "cell_type": "code",
   "execution_count": null,
   "metadata": {},
   "outputs": [],
   "source": [
    "#=\n",
    "plt1 = plot_dist(X_test[78], test_data, model; true_label=\"SSA\")\n",
    "plt2 = plot_dist(X_test[75], test_data, model; true_label=\"FSP\")\n",
    "plt3 = plot_dist(X_test[92], test_data, model; true_label=\"FSP\")\n",
    "=#\n",
    "\n",
    "p = Float32.([0.94, 0.01, 8.4, 28.1]); t = 10f0\n",
    "ps = vcat(t, p); _data = build_dataset([t], [p], solver)\n",
    "plt1 = plot_dist(ps, _data, model; true_label=\"FSP\")\n",
    "plt1 = plot!(plt1, xlabel=\"\", ylabel=\"Probability\", title=\"\", yticks=false, left_margin=4Plots.mm, leg=true)\n",
    "\n",
    "p = Float32.([0.69, 0.07, 7.2, 40.6]); t = 25f0\n",
    "ps = vcat(t, p); _data = build_dataset([t], [p], solver)\n",
    "plt2 = plot_dist(ps, _data, model)\n",
    "plt2 = plot!(plt2, xlabel=\"Protein number\", ylabel=\"\", title=\"\", yticks=false, leg=false, xticks=([0, 20, 40, 60], 0:20:60))\n",
    "\n",
    "p = Float32.([0.44, 0.08, 0.94, 53.13]); t = 100f0\n",
    "ps = vcat(t, p); _data = build_dataset([t], [p], solver)\n",
    "plt3 = plot_dist(ps, _data, model)\n",
    "plt3 = plot!(plt3, xlabel=\"\", ylabel=\"\", title=\"\", yticks=false,leg=false, right_margin=-1Plots.mm)\n",
    "\n",
    "plt = plot(plt1, plt2, plt3, layout=(1,3), size=(350, 110), bottom_margin=0Plots.mm, top_margin=-2Plots.mm,\n",
    "           right_margin=-1Plots.mm, left_margin=1Plots.mm, guidefontsize=6, tickfontsize=6, legendfontsize=6, thickness_scaling=1.0,\n",
    "           foreground_color_legend = nothing, fmt=:svg)"
   ]
  },
  {
   "cell_type": "code",
   "execution_count": null,
   "metadata": {},
   "outputs": [],
   "source": [
    "savefig(joinpath(AFL_DIR, \"example_dists.svg\"))"
   ]
  },
  {
   "cell_type": "markdown",
   "metadata": {},
   "source": [
    "### Bimodality heatmaps"
   ]
  },
  {
   "cell_type": "code",
   "execution_count": null,
   "metadata": {},
   "outputs": [],
   "source": [
    "cmap_new = [ colorant\"#0d89c4\", colorant\"#2996cb\", colorant\"#46a4d2\", colorant\"#63b2d9\", colorant\"#80c0e0\", \n",
    "             colorant\"#9dcee7\", colorant\"#badcee\", colorant\"#d7eaf5\", colorant\"#f4f8fc\", colorant\"#eae0e5\", \n",
    "             colorant\"#e1c8ce\", colorant\"#d7b0b7\", colorant\"#ce99a0\", colorant\"#c58189\", colorant\"#bb6972\", \n",
    "             colorant\"#b2515b\", colorant\"#a93a45\" ]"
   ]
  },
  {
   "cell_type": "code",
   "execution_count": null,
   "metadata": {},
   "outputs": [],
   "source": [
    "using LaTeXStrings\n",
    "\n",
    "function plot_bimodality_NN(model, ind1, ind2, iter1, iter2, sym1, sym2, ps, t)\n",
    "\n",
    "    bcs = Matrix{Float64}(undef, length(iter1), length(iter2))\n",
    "    ps_all = vcat(t, ps...) \n",
    "    ind1 += 1; ind2 +=1\n",
    "\n",
    "    for (i, p1) in enumerate(iter1)\n",
    "        \n",
    "        for (j, p2) in enumerate(iter2)\n",
    "            \n",
    "            ps_all[ind1] = p1; ps_all[ind2] = p2 \n",
    "            mnb = Distribution(model, ps_all)\n",
    "            bcs[i, j] = bimodcoeff(mnb)\n",
    "            \n",
    "        end\n",
    "        \n",
    "    end\n",
    "\n",
    "    plt = contourf(iter1, iter2, bcs', linewidth=0.005, c=cmap_new, linecolor=:black)\n",
    "    plt = plot!(plt, xlabel=sym1, ylabel=sym2)\n",
    "    plt, bcs\n",
    "\n",
    "end\n",
    "\n",
    "function plot_bimodality_FSP(ind1, ind2, iter1, iter2, sym1, sym2, ps, t)\n",
    "\n",
    "    fsp_sys = FSPSystem(rn_afl, combinatoric_ratelaw=false)\n",
    "    state_space = [2, 400]\n",
    "    u0 = zeros(state_space...)\n",
    "    u0[2, 1] = 1.0\n",
    "    fsp_prob = ODEProblem(fsp_sys, u0, (0., t), ones(numparams(rn_afl)))\n",
    "\n",
    "    bcs = Matrix{Float64}(undef, length(iter1), length(iter2))\n",
    "\n",
    "    Threads.@threads for (i, j) in collect(Iterators.product(1:length(iter1), 1:length(iter2)))\n",
    "        p1 = iter1[i]\n",
    "        p2 = iter2[j]\n",
    "\n",
    "        ps_ = copy(ps)\n",
    "        ps_[ind1] = p1; ps_[ind2] = p2 \n",
    "        sol_raw = solve(fsp_prob, CVODE_BDF(), saveat=[t], p=ps_; reltol=1e-8, abstol=1e-8)\n",
    "\n",
    "        dist = sum(sol_raw.u[1], dims=1)[1:end]\n",
    "        max_ind = maximum(findall(val -> !isapprox(val, 0f0, atol=1e-5), dist))\n",
    "        dist = dist[1:max_ind]\n",
    "\n",
    "        m = sum( (0:max_ind-1) .* dist )\n",
    "        s = sqrt(sum( ((0:max_ind-1) .- m) .^2 .* dist ))\n",
    "        m3 = sum(((0:max_ind-1) .- m) .^3 .* dist)\n",
    "        m4 = sum( ((0:max_ind-1) .- m) .^4 .* dist)\n",
    "        bcs[i, j] = 1 / (m4/s^4 - (m3 / s^3)^2)\n",
    "        \n",
    "    end\n",
    "\n",
    "    plt = contourf(iter1, iter2, bcs', linewidth=0.02, c=cmap_new)\n",
    "    plt = plot!(plt, xlabel=sym1, ylabel=sym2)\n",
    "\n",
    "    plt, bcs\n",
    "\n",
    "end\n",
    "\n",
    "# σ_u σ_b ρ_u ρ_b\n",
    "ranges = [ 0 2\n",
    "           0 0.1\n",
    "           0 10\n",
    "           0 100 ]\n",
    "\n",
    "ps = [1f0, 0.05f0, 1f0, 20f0]\n",
    "\n",
    "iter1 = 0.01:0.002:0.1\n",
    "iter2 = 1:1:100\n",
    "sym1 = \"σ_b\"\n",
    "sym2 = \"ρ_b\"\n",
    "@time plt1, bcs_nn = plot_bimodality_NN(model, 2, 4, iter1, iter2, sym1, sym2, ps, 100f0)\n",
    "plt1 = plot!(plt1, xlabel=L\"\\sigma_b\", ylabel=L\"\\rho_b\", title=\"Nessie\", xticks=xticks)\n",
    "\n",
    "#@time plt2, bcs_fsp = plot_bimodality_FSP(2, 4, iter1, iter2, sym1, sym2, ps, 100f0)\n",
    "#plt2 = plot!(plt2, xlabel=L\"\\sigma_b\", ylabel=L\"\\rho_b\"); plot(plt2)\n",
    "#@save joinpath(AFL_DIR, \"heatmap_bcs_FSP.jld2\") bcs_fsp\n",
    "\n",
    "xticks = (0.025:0.025:0.1, 0.025:0.025:0.1)\n",
    "@load joinpath(AFL_DIR, \"heatmap_bcs_FSP.jld2\") bcs_fsp\n",
    "plt2 = contourf(iter1, iter2, bcs_fsp', c=cmap_new, linewidth=0.005, linecolor=:black, xticks=xticks)\n",
    "plt2 = plot!(plt2, xlabel=L\"\\sigma_b\", ylabel=L\"\\rho_b\", title=\"FSP\")\n",
    "\n",
    "lim1, lim2 = extrema(hcat(bcs_nn, bcs_fsp))\n",
    "plt = plot(plt1, plt2, clim=(lim1, lim2), size = (370, 130), tick_direction = :out, thickness_scaling=1.0,\n",
    "           guidefontsize=6, tickfontsize=6, legendfontsize=6, ticksize=6, titlefontsize=6,\n",
    "           left_margin=-1Plots.mm, bottom_margin=0.5Plots.mm, top_margin=-1Plots.mm, right_margin=-1Plots.mm, \n",
    "           framestyle=:box)"
   ]
  },
  {
   "cell_type": "code",
   "execution_count": null,
   "metadata": {},
   "outputs": [],
   "source": [
    "savefig(joinpath(AFL_DIR, \"bimodality.svg\"))"
   ]
  },
  {
   "cell_type": "code",
   "execution_count": null,
   "metadata": {},
   "outputs": [],
   "source": [
    "@time plot_bimodality_NN(model, 2, 4, iter1, iter2, sym1, sym2, ps, 100f0);"
   ]
  },
  {
   "cell_type": "code",
   "execution_count": null,
   "metadata": {},
   "outputs": [],
   "source": [
    "@time plot_bimodality_FSP(2, 4, iter1, iter2, sym1, sym2, ps, 100f0);"
   ]
  },
  {
   "cell_type": "markdown",
   "metadata": {},
   "source": [
    "### Predicted vs true moments"
   ]
  },
  {
   "cell_type": "code",
   "execution_count": null,
   "metadata": {},
   "outputs": [],
   "source": [
    "# considering only t=100\n",
    "m_NN = mean.(Distribution.(Ref(model), X_test[1:4:end]))\n",
    "var_NN = var.(Distribution.(Ref(model), X_test[1:4:end]))\n",
    "\n",
    "m_FSP = [sum((0:length(y)-1) .* y) for y in y_test[1:4:end]]\n",
    "var_FSP = [sum(((0:length(y)-1) .- m_FSP[i]) .^2  .* y) for (i, y) in enumerate(y_test[1:4:end])] \n",
    "\n",
    "max_val = maximum(vcat(m_FSP, m_NN))*1.025\n",
    "plt1 = plot(1:max_val, 1:max_val, linestyle=:dash, linecolor=:gray, linealpha=0.9, legend=false, xlabel=\"Nessie\", ylabel=\"FSP\", title=\"Mean\")\n",
    "plt1 = scatter!(plt1, m_NN, m_FSP, color=colorant\"#0088c3ff\", grid = false, xlim=(0, max_val), ylim=(0, max_val), markersize=2.5, markerstrokecolor=colorant\"#0088c3ff\", alpha=0.6)\n",
    "plt1 = plot!(plt1, guidefontsize=6, tickfontsize=6, titlefontsize=6, thickness_scaling=1.0, framestyle=:box, tick_direction=:out)\n",
    "#savefig(joinpath(AFL_DIR, \"true_vs_predict_mean.svg\"))\n",
    "\n",
    "max_val = maximum(vcat(var_FSP, var_NN))*1.025\n",
    "plt2 = plot(1:max_val, 1:max_val, linestyle=:dash, linecolor=:gray, linealpha=0.9, legend=false, xlabel=\"Nessie\", title=\"Variance\")\n",
    "plt2 = scatter!(plt2, var_NN, var_FSP, color=colorant\"#0088c3ff\", grid = false, xlim=(0, max_val), ylim=(0, max_val), markersize=2.5, markerstrokecolor=colorant\"#0088c3ff\", alpha=0.6)\n",
    "plt2 = plot!(plt2, guidefontsize=6, tickfontsize=6, titlefontsize=6, thickness_scaling=1.0, framestyle=:box, tick_direction=:out)\n",
    "#savefig(joinpath(AFL_DIR, \"true_vs_predict_variance.svg\"))\n",
    "\n",
    "plt = plot(plt1, plt2, size=(290, 130), left_margin=-1Plots.mm, bottom_margin=0Plots.mm, top_margin=-1Plots.mm, right_margin=1Plots.mm)"
   ]
  },
  {
   "cell_type": "code",
   "execution_count": null,
   "metadata": {},
   "outputs": [],
   "source": [
    "savefig(joinpath(AFL_DIR, \"true_vs_predicted_moments.svg\"))"
   ]
  },
  {
   "cell_type": "markdown",
   "metadata": {},
   "source": [
    "# Hyperparameter tuning"
   ]
  },
  {
   "cell_type": "markdown",
   "metadata": {},
   "source": [
    "### Size of the dataset"
   ]
  },
  {
   "cell_type": "code",
   "execution_count": null,
   "metadata": {},
   "outputs": [],
   "source": [
    "nsamples = 10\n",
    "nparams = [50, 100, 200, 300, 400, 500, 750, 1000];"
   ]
  },
  {
   "cell_type": "code",
   "execution_count": null,
   "metadata": {},
   "outputs": [],
   "source": [
    "models = []\n",
    "@time for nparam in nparams\n",
    "    \n",
    "    _models = []\n",
    "\n",
    "    for i in 1:nsamples\n",
    "\n",
    "        tpts = [ Sobol.next!(s) for i in 1:nparam]\n",
    "        _train = build_dataset_parallel(ts, tpts, solver)\n",
    "        \n",
    "        vpts = [ Sobol.next!(s) for i in 1:100]\n",
    "        _valid = build_dataset_parallel(ts, vpts, solver)\n",
    "        \n",
    "        model = build_model(4, 128)\n",
    "        _, _ = train_NN!(model, _train, _valid; max_rounds=500, lr=0.01, batchsize=64)\n",
    "        push!(_models, model)\n",
    "    end\n",
    "    \n",
    "    push!(models, _models)\n",
    "\n",
    "end\n",
    "\n",
    "#@save joinpath(AFL_DIR, \"models_nparams.jld2\") models"
   ]
  },
  {
   "cell_type": "code",
   "execution_count": null,
   "metadata": {},
   "outputs": [],
   "source": [
    "@load joinpath(AFL_DIR, \"models_nparams.jld2\") models"
   ]
  },
  {
   "cell_type": "code",
   "execution_count": null,
   "metadata": {},
   "outputs": [],
   "source": [
    "losses_hell = [ [ mean_loss(valid_data..., model; loss=loss_hellinger) for model in models[i] ] for i in 1:length(models)]\n",
    "\n",
    "x = nparams\n",
    "y = mean.(losses_hell)\n",
    "ystd = std.(losses_hell)\n",
    "ind = findmax(y)[2]\n",
    "ymax = (y[ind] + ystd[ind]) * 1.01\n",
    "xmax = x[end] * 1.01\n",
    "\n",
    "plt_hell = plot(x, y, yerror=ystd, xlabel=\"dataset size\", ylabel=\"Hellinger distance\", \n",
    "                markerstrokecolor = :auto, leg=false, grid=false, lw=2, ylim=(0., ymax), xlim = (0., xmax),\n",
    "                markerstrokewidth=2, tick_direction=:out, \n",
    "                size = (600, 300), guidefontsize=8, tickfontsize=8, legendfontsize=8, thickness_scaling=1.5,\n",
    "                left_margin=-5Plots.mm, right_margin=1Plots.mm, top_margin=0Plots.mm, bottom_margin=-2Plots.mm)"
   ]
  },
  {
   "cell_type": "code",
   "execution_count": null,
   "metadata": {},
   "outputs": [],
   "source": [
    "plt_hell = plot(x, y, yerror=ystd, xlabel=\"dataset size\", ylabel=\"Hellinger distance\", \n",
    "                markerstrokecolor = colorant\"#0088c3ff\", leg=false, grid=false, lw=1.5, ylim=(0., ymax), xlim = (0., xmax),\n",
    "                markerstrokewidth=1.5, tick_direction=:out, c=colorant\"#0088c3ff\",\n",
    "                size = (290, 130), guidefontsize=6, tickfontsize=6, thickness_scaling=1.0,\n",
    "                left_margin=-1Plots.mm, right_margin=0Plots.mm, top_margin=-1Plots.mm, bottom_margin=0Plots.mm)"
   ]
  },
  {
   "cell_type": "code",
   "execution_count": null,
   "metadata": {},
   "outputs": [],
   "source": [
    "savefig(joinpath(AFL_DIR, \"hell_vs_nparams.svg\"))"
   ]
  },
  {
   "cell_type": "markdown",
   "metadata": {},
   "source": [
    "### Number of mixture components"
   ]
  },
  {
   "cell_type": "code",
   "execution_count": null,
   "metadata": {},
   "outputs": [],
   "source": [
    "nsamples = 10\n",
    "ncomps = 1:10;"
   ]
  },
  {
   "cell_type": "code",
   "execution_count": null,
   "metadata": {},
   "outputs": [],
   "source": [
    "models = []\n",
    "@time for ncomp in ncomps\n",
    "    \n",
    "    _models = []\n",
    "    \n",
    "    for i in 1:nsamples\n",
    "         tpts = [ Sobol.next!(s) for i in 1:1000]\n",
    "        _train = build_dataset_parallel(ts, tpts, solver)\n",
    "        \n",
    "        vpts = [ Sobol.next!(s) for i in 1:100]\n",
    "        _valid = build_dataset_parallel(ts, vpts, solver)\n",
    "        \n",
    "        model = build_model(ncomp, 128)\n",
    "        _, _ = train_NN!(model, _train, _valid; max_rounds=500, lr=0.01, batchsize=64)\n",
    "        push!(_models, model)\n",
    "    end\n",
    "    \n",
    "    push!(models, _models)\n",
    "\n",
    "end\n",
    "\n",
    "#@save joinpath(AFL_DIR, \"models_ncomps.jld2\") models"
   ]
  },
  {
   "cell_type": "code",
   "execution_count": null,
   "metadata": {},
   "outputs": [],
   "source": [
    "@load joinpath(AFL_DIR, \"models_ncomps.jld2\") models"
   ]
  },
  {
   "cell_type": "code",
   "execution_count": null,
   "metadata": {},
   "outputs": [],
   "source": [
    "losses_hell = [ [ mean_loss(valid_data..., model; loss=loss_hellinger) for model in models[i] ] for i in 1:length(models)]\n",
    "\n",
    "x = ncomps\n",
    "y = mean.(losses_hell)\n",
    "ystd = std.(losses_hell)\n",
    "ind = findmax(y)[2]\n",
    "ymax = (y[ind] + ystd[ind]) * 1.01\n",
    "\n",
    "plt_hell = plot(x, y, yerror=ystd, xlabel=\"number of mixture components\", ylabel=\"Hellinger distance\", \n",
    "                markerstrokecolor = :auto, leg=false, grid=false, lw=2, ylim=(0., ymax),\n",
    "                markerstrokewidth=2, tick_direction=:out, xticks=x,\n",
    "                size = (600, 300), guidefontsize=8, tickfontsize=8, legendfontsize=8, thickness_scaling=1.5,\n",
    "                left_margin=-5Plots.mm, right_margin=0Plots.mm, top_margin=-1Plots.mm, bottom_margin=-2Plots.mm)"
   ]
  },
  {
   "cell_type": "code",
   "execution_count": null,
   "metadata": {},
   "outputs": [],
   "source": [
    "plt_hell = plot(x, y, yerror=ystd, xlabel=\"number of mixture components\", ylabel=\"Hellinger distance\", \n",
    "                markerstrokecolor = colorant\"#0088c3ff\", leg=false, grid=false, lw=1.5, ylim=(0., ymax),\n",
    "                markerstrokewidth=1.5, tick_direction=:out, c=colorant\"#0088c3ff\", xticks=x,\n",
    "                size = (290, 130), guidefontsize=6, tickfontsize=6, thickness_scaling=1.0,\n",
    "                left_margin=-1Plots.mm, right_margin=-2Plots.mm, top_margin=-1Plots.mm, bottom_margin=0Plots.mm)"
   ]
  },
  {
   "cell_type": "code",
   "execution_count": null,
   "metadata": {},
   "outputs": [],
   "source": [
    "savefig(joinpath(AFL_DIR, \"hell_vs_ncomps.svg\"))"
   ]
  },
  {
   "cell_type": "markdown",
   "metadata": {},
   "source": [
    "### Number of neurons in the single hidden layer"
   ]
  },
  {
   "cell_type": "code",
   "execution_count": null,
   "metadata": {},
   "outputs": [],
   "source": [
    "nsamples = 10\n",
    "nunits = 2 .^(1:10);"
   ]
  },
  {
   "cell_type": "code",
   "execution_count": null,
   "metadata": {},
   "outputs": [],
   "source": [
    "models = []\n",
    "@time for nunit in nunits\n",
    "    \n",
    "    _models = []\n",
    "    \n",
    "    for i in 1:nsamples\n",
    "         tpts = [ Sobol.next!(s) for i in 1:1000]\n",
    "        _train = build_dataset_parallel(ts, tpts, solver)\n",
    "        \n",
    "        vpts = [ Sobol.next!(s) for i in 1:100]\n",
    "        _valid = build_dataset_parallel(ts, vpts, solver)\n",
    "        \n",
    "        model = build_model(4, nunit)\n",
    "        _, _ = train_NN!(model, _train, _valid; max_rounds=500, lr=0.01, batchsize=64)\n",
    "        push!(_models, model)\n",
    "    end\n",
    "    \n",
    "    push!(models, _models)\n",
    "\n",
    "end\n",
    "\n",
    "#@save joinpath(AFL_DIR, \"models_nunits.jld2\") models"
   ]
  },
  {
   "cell_type": "code",
   "execution_count": null,
   "metadata": {},
   "outputs": [],
   "source": [
    "@load joinpath(AFL_DIR, \"models_nunits.jld2\") models"
   ]
  },
  {
   "cell_type": "code",
   "execution_count": null,
   "metadata": {},
   "outputs": [],
   "source": [
    "losses_hell = [ [ mean_loss(valid_data..., model; loss=loss_hellinger) for model in models[i] ] for i in 1:length(models)]\n",
    "\n",
    "x = string.(nunits)\n",
    "y = mean.(losses_hell)\n",
    "ystd = std.(losses_hell)\n",
    "ind = findmax(y)[2]\n",
    "ymax = (y[ind] + ystd[ind]) * 1.01\n",
    "\n",
    "plt_hell = plot(x, y, yerror=ystd, xlabel=\"number of neurons\", ylabel=\"Hellinger distance\", \n",
    "                markerstrokecolor = :auto, leg=false, grid=false, lw=2, ylim=(0., ymax),\n",
    "                markerstrokewidth=2, tick_direction=:out,\n",
    "                size = (600, 300), guidefontsize=8, tickfontsize=8, legendfontsize=8, thickness_scaling=1.5,\n",
    "                left_margin=-5Plots.mm, right_margin=-1Plots.mm, top_margin=-2Plots.mm, bottom_margin=-2Plots.mm)"
   ]
  },
  {
   "cell_type": "code",
   "execution_count": null,
   "metadata": {},
   "outputs": [],
   "source": [
    "plt_hell = plot(x, y, yerror=ystd, xlabel=\"number of neurons\", ylabel=\"Hellinger distance\",\n",
    "                markerstrokecolor = colorant\"#0088c3ff\", leg=false, grid=false, lw=1.5, ylim=(0., ymax),\n",
    "                markerstrokewidth=1.5, tick_direction=:out, c=colorant\"#0088c3ff\",\n",
    "                size = (290, 130), guidefontsize=6, tickfontsize=6, thickness_scaling=1.0,\n",
    "                left_margin=-1Plots.mm, right_margin=-1Plots.mm, top_margin=-1Plots.mm, bottom_margin=0Plots.mm)"
   ]
  },
  {
   "cell_type": "code",
   "execution_count": null,
   "metadata": {},
   "outputs": [],
   "source": [
    "savefig(joinpath(AFL_DIR, \"hell_vs_nunits.svg\"))"
   ]
  },
  {
   "cell_type": "markdown",
   "metadata": {},
   "source": [
    "### Different deep architectures"
   ]
  },
  {
   "cell_type": "code",
   "execution_count": null,
   "metadata": {},
   "outputs": [],
   "source": [
    "nlayers = [[128], [128, 128], [64, 16], [128, 64, 32], [64, 32, 16], [64, 64, 32, 32], [16, 16, 16, 16]]\n",
    "nsamples = 10;"
   ]
  },
  {
   "cell_type": "code",
   "execution_count": null,
   "metadata": {},
   "outputs": [],
   "source": [
    "models = []\n",
    "@time for nlayer in nlayers\n",
    "    \n",
    "    _models = []\n",
    "    \n",
    "    for i in 1:nsamples\n",
    "         tpts = [ Sobol.next!(s) for i in 1:1000]\n",
    "        _train = build_dataset_parallel(ts, tpts, solver)\n",
    "        \n",
    "        vpts = [ Sobol.next!(s) for i in 1:100]\n",
    "        _valid = build_dataset_parallel(ts, vpts, solver)\n",
    "        \n",
    "        model = build_model(4, nlayer)\n",
    "        _, _ = train_NN!(model, _train, _valid; max_rounds=500, lr=0.01, batchsize=64)\n",
    "        push!(_models, model)\n",
    "    end\n",
    "    \n",
    "    push!(models, _models)\n",
    "\n",
    "end\n",
    "\n",
    "#@save joinpath(AFL_DIR, \"models_nlayers.jld2\") models"
   ]
  },
  {
   "cell_type": "code",
   "execution_count": null,
   "metadata": {},
   "outputs": [],
   "source": [
    "@load joinpath(AFL_DIR, \"models_nlayers.jld2\") models"
   ]
  },
  {
   "cell_type": "code",
   "execution_count": null,
   "metadata": {},
   "outputs": [],
   "source": [
    "losses_hell = [ [ mean_loss(valid_data..., model; loss=loss_hellinger) for model in models[i] ] for i in 1:length(models)]\n",
    "labels = [\"128\", \"128-128\", \"64-16\", \"128-64-32\", \"64-32-16\", \"64-64-32-32\", \"16-16-16-16\"];"
   ]
  },
  {
   "cell_type": "code",
   "execution_count": null,
   "metadata": {},
   "outputs": [],
   "source": [
    "plot(labels, mean.(losses_hell), yerror=std.(losses_hell), \n",
    "     xlabel=\"hidden layer architecture\", ylabel=\"Hellinger distance\", \n",
    "     markerstrokecolor = :auto, leg=false, grid=false, lw=2, markerstrokewidth=2, tick_direction=:out,\n",
    "     size = (600, 300), guidefontsize=8, tickfontsize=8, legendfontsize=8, thickness_scaling=1.5, xrotation = 30,\n",
    "     left_margin=-7Plots.mm, right_margin=-2Plots.mm)"
   ]
  },
  {
   "cell_type": "code",
   "execution_count": null,
   "metadata": {},
   "outputs": [],
   "source": [
    "plt_hell = plot(labels, mean.(losses_hell), yerror=std.(losses_hell), \n",
    "                xlabel=\"hidden layer architecture\", ylabel=\"Hellinger distance\", \n",
    "                markerstrokecolor = colorant\"#0088c3ff\", leg=false, grid=false, lw=1.5,\n",
    "                markerstrokewidth=1.5, tick_direction=:out, c=colorant\"#0088c3ff\",\n",
    "                size = (290, 130), guidefontsize=6, tickfontsize=6, thickness_scaling=1.0, xrotation = 30,\n",
    "                left_margin=-1Plots.mm, right_margin=-2Plots.mm, top_margin=-1.5Plots.mm, bottom_margin=3Plots.mm)"
   ]
  },
  {
   "cell_type": "code",
   "execution_count": null,
   "metadata": {},
   "outputs": [],
   "source": [
    "savefig(joinpath(AFL_DIR, \"hell_vs_architecture.svg\"))"
   ]
  },
  {
   "cell_type": "markdown",
   "metadata": {},
   "source": [
    "### Number of SSA trajectories"
   ]
  },
  {
   "cell_type": "code",
   "execution_count": null,
   "metadata": {},
   "outputs": [],
   "source": [
    "# set up SSA\n",
    "u0 = [1, 0] # [G, P]\n",
    "jsys = convert(JumpSystem, rn_afl, combinatoric_ratelaws=false)\n",
    "dprob = DiscreteProblem(jsys, u0, (0., 1.), ones(numparams(rn_afl)))\n",
    "jprob = JumpProblem(jsys, dprob, Direct(), save_positions=(false,false));"
   ]
  },
  {
   "cell_type": "code",
   "execution_count": null,
   "metadata": {},
   "outputs": [],
   "source": [
    "ntrajs = Int.([1, 5, 1e1, 5e1, 1e2, 5e2, 1e3, 5e3, 1e4])\n",
    "nsamples = 10;"
   ]
  },
  {
   "cell_type": "code",
   "execution_count": null,
   "metadata": {},
   "outputs": [],
   "source": [
    "models = []\n",
    "\n",
    "@time for ntraj in ntrajs\n",
    "    \n",
    "    ssa_solver(ts, p) = ssa_solve(jprob, ts, p, ntraj; marginals=[2])\n",
    "    _models = []\n",
    "    \n",
    "    for i in 1:nsamples\n",
    "        tpts = [ Sobol.next!(s) for i in 1:1000 ]\n",
    "        _train = build_dataset(ts, tpts, ssa_solver) # SSA\n",
    "        \n",
    "        vpts = [ Sobol.next!(s) for i in 1:100 ]\n",
    "        _valid = build_dataset_parallel(ts, vpts, solver) # FSP\n",
    "        \n",
    "        model = build_model(4, 128)\n",
    "        _, _ = train_NN!(model, _train, _valid; max_rounds=500, lr=0.01, batchsize=64)\n",
    "        push!(_models, model)\n",
    "    end\n",
    "    \n",
    "    push!(models, _models)\n",
    "\n",
    "end\n",
    "\n",
    "#@save joinpath(AFL_DIR, \"models_ntrajs.jld2\") models"
   ]
  },
  {
   "cell_type": "code",
   "execution_count": null,
   "metadata": {},
   "outputs": [],
   "source": [
    "# add FSP as a purple dashed line\n",
    "# using the 1st model from \"models_nlayers.jld2\" as that's we need\n",
    "@load joinpath(AFL_DIR, \"models_nlayers.jld2\") models\n",
    "fsp_res = mean([ mean_loss(valid_data..., model; loss=loss_hellinger) for model in models[1] ])\n",
    "_x = [ntrajs[1]-0.2, ntrajs..., ntrajs[end]*1.3]; _y = fill(fsp_res,length(_x))\n",
    "plt_hell = plot(_x, _y, linestyle=:dash, lw=1, linealpha=0.9, linecolor=:purple)\n",
    "\n",
    "@load joinpath(AFL_DIR, \"models_ntrajs.jld2\") models\n",
    "losses_hell = [ [ mean_loss(valid_data..., model; loss=loss_hellinger) for model in models[i] ] for i in 1:length(models)]\n",
    "y = mean.(losses_hell)\n",
    "ystd = std.(losses_hell)\n",
    "ind = findmax(y)[2]\n",
    "ymax = (y[ind] + ystd[ind]) * 1.05\n",
    "\n",
    "plt_hell = plot!(plt_hell, ntrajs, y, yerror=ystd, ylim = (0., ymax), color=1,\n",
    "                xlabel=\"number of SSA samples\", ylabel=\"Hellinger distance\", legend=false, xlim=(ntrajs[1]-0.2, ntrajs[end]*1.2),\n",
    "                markerstrokecolor = 1, markerstrokewidth=2, grid=false, lw=2, xaxis=:log,\n",
    "                size=(450, 300),  guidefontsize=8, tickfontsize=8, legendfontsize=8, thickness_scaling=1.5,\n",
    "                left_margin=-6Plots.mm, bottom_margin=-3Plots.mm, right_margin=-1Plots.mm, top_margin=-2Plots.mm,tick_direction=:out)"
   ]
  },
  {
   "cell_type": "code",
   "execution_count": null,
   "metadata": {},
   "outputs": [],
   "source": [
    "plt_hell = plot(_x, _y, linestyle=:dash, lw=1.0, linealpha=1.0, linecolor=colorant\"#a93a45\")\n",
    "\n",
    "plt_hell = plot!(plt_hell, ntrajs, y, yerror=ystd, ylim = (0., ymax), c=colorant\"#0088c3ff\",\n",
    "                xlabel=\"number of SSA samples\", ylabel=\"Hellinger distance\", legend=false, xlim=(ntrajs[1]-0.2, ntrajs[end]*1.2),\n",
    "                markerstrokecolor = colorant\"#0088c3ff\", markerstrokewidth=1.5, grid=false, lw=1.5, xaxis=:log,\n",
    "                size=(190, 130),  guidefontsize=6, tickfontsize=6, thickness_scaling=1.0,\n",
    "                left_margin=-2Plots.mm, bottom_margin=-1.5Plots.mm, right_margin=-1Plots.mm, top_margin=-2Plots.mm, tick_direction=:out)"
   ]
  },
  {
   "cell_type": "code",
   "execution_count": null,
   "metadata": {},
   "outputs": [],
   "source": [
    "savefig(joinpath(AFL_DIR, \"hell_vs_ssa.svg\"))"
   ]
  },
  {
   "cell_type": "markdown",
   "metadata": {},
   "source": [
    "#### Noisiness in histograms"
   ]
  },
  {
   "cell_type": "code",
   "execution_count": null,
   "metadata": {},
   "outputs": [],
   "source": [
    "ind = 143\n",
    "plot_dist(X_test[ind*4], test_data, model; true_label=\"FSP\")"
   ]
  },
  {
   "cell_type": "code",
   "execution_count": null,
   "metadata": {},
   "outputs": [],
   "source": [
    "p = Float32.([1.17, 0.05, 6.9, 47.9]); t = 10f0\n",
    "ps = vcat(t, p); _data = build_dataset([t], [p], solver)\n",
    "\n",
    "plt1 = plot_dist(ps, _data, model; true_label=\"FSP\")\n",
    "plt1 = plot!(plt1, xlabel=\"\", ylabel=\"probability\", title=\"\", yticks=false, left_margin=4Plots.mm, leg=true)"
   ]
  },
  {
   "cell_type": "code",
   "execution_count": null,
   "metadata": {},
   "outputs": [],
   "source": [
    "@load joinpath(AFL_DIR, \"models_ntrajs.jld2\") models\n",
    "p = Float32.([1.17, 0.05, 6.9, 47.9]); t = 10f0\n",
    "ps = vcat(t, p)\n",
    "ylim = 0.052\n",
    "xlim = 65\n",
    "xticks = 0:20:60;"
   ]
  },
  {
   "cell_type": "code",
   "execution_count": null,
   "metadata": {},
   "outputs": [],
   "source": [
    "_solver(t, p) = ssa_solve(jprob, t, p, 100; marginals=[2])\n",
    "_data1 = build_dataset(t, [p], _solver)\n",
    "\n",
    "dif = xlim+1-length(_data1[2][1])\n",
    "if dif > 0\n",
    "    _data1[2][1] = vcat(_data1[2][1], zeros(Float32, dif))\n",
    "end\n",
    "plt1 = plot_dist(ps, _data1, models[5][rand(1:10)]; true_label=\"SSA\", title=\"\", xticks=xticks)\n",
    "plt1 = plot!(plt1, xlabel=\"\", yticks=false, ylabel=\"Probability\", left_margin=0Plots.mm)\n",
    "plt1 = plot!(plt1, ylims=(0., ylim), xlims=(0., xlim), leg=false)\n",
    "plt1 = annotate!(plt1, [(30, ylim-0.002, Plots.text(\"10²\", 8, :black, :center))])\n",
    "\n",
    "_solver(t, p) = ssa_solve(jprob, t, p, 1000; marginals=[2])\n",
    "_data2 = build_dataset(t, [p], _solver)\n",
    "dif = xlim+1-length(_data2[2][1])\n",
    "if dif > 0\n",
    "    _data2[2][1] = vcat(_data2[2][1], zeros(Float32, dif))\n",
    "end\n",
    "plt2 = plot_dist(ps, _data2, models[7][rand(1:10)], xticks=xticks, true_label=\"SSA\")\n",
    "plt2 = plot!(plt2, xlabel=\"Protein number\", ylabel=\"\", title=\"\", leg=true, yticks=false, foreground_color_legend = nothing) \n",
    "plt2 = plot!(plt2, ylims=(0., ylim), xlims=(0., xlim))\n",
    "plt2 = annotate!(plt2, [(33, ylim-0.002, Plots.text(\"10³\", 8, :black, :center))])\n",
    "\n",
    "_solver(t, p) = ssa_solve(jprob, t, p, 10000; marginals=[2])\n",
    "_data3 = build_dataset(t, [p], _solver)\n",
    "dif = xlim+1-length(_data3[2][1])\n",
    "if dif > 0\n",
    "    _data3[2][1] = vcat(_data3[2][1], zeros(Float32, dif))\n",
    "end\n",
    "plt3 = plot_dist(ps, _data3, models[9][rand(1:10)], xticks=xticks)\n",
    "plt3 = plot!(plt3, xlabel=\"\", ylabel=\"\", title=\"\", leg=false, yticks=false) \n",
    "plt3 = plot!(plt3, ylims=(0., ylim), xlims=(0., xlim))\n",
    "plt3 = annotate!(plt3, [(33, ylim-0.002, Plots.text(\"10⁴\", 8, :black, :center))]);"
   ]
  },
  {
   "cell_type": "code",
   "execution_count": null,
   "metadata": {},
   "outputs": [],
   "source": [
    "plt = plot(plt1, plt2, plt3, layout=(1,3), size=(400, 130), legendfontsize=6,\n",
    "           guidefontsize=6, tickfontsize=6, ticksize=6, thickness_scaling=1.0, tick_orientation=:out,\n",
    "           top_margin=-1Plots.mm, bottom_margin=0.5Plots.mm, left_margin=1.5Plots.mm, right_margin=-2Plots.mm)"
   ]
  },
  {
   "cell_type": "code",
   "execution_count": null,
   "metadata": {},
   "outputs": [],
   "source": [
    "savefig(joinpath(AFL_DIR, \"SSA_dists.svg\"))"
   ]
  }
 ],
 "metadata": {
  "kernelspec": {
   "display_name": "Julia (16 threads) 1.6.0",
   "language": "julia",
   "name": "julia-(16-threads)-1.6"
  },
  "language_info": {
   "file_extension": ".jl",
   "mimetype": "application/julia",
   "name": "julia",
   "version": "1.7.2"
  }
 },
 "nbformat": 4,
 "nbformat_minor": 4
}
