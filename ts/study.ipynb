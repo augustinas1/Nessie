{
 "cells": [
  {
   "cell_type": "code",
   "execution_count": null,
   "metadata": {},
   "outputs": [],
   "source": [
    "using JLD2\n",
    "\n",
    "include(\"../train_NN.jl\")\n",
    "include(\"../generate_data.jl\")\n",
    "include(\"model.jl\")\n",
    "include(\"../viz.jl\")\n",
    "\n",
    "#@load joinpath(MODEL_DIR, \"train_data.jld2\") X_train y_train\n",
    "#@load joinpath(MODEL_DIR, \"valid_data.jld2\") X_valid y_valid\n",
    "@load joinpath(MODEL_DIR, \"test_data.jld2\") X_test y_test\n",
    "\n",
    "#train_data = (X_train, y_train)\n",
    "#valid_data = (X_valid, y_valid)\n",
    "test_data = (X_test, y_test);"
   ]
  },
  {
   "cell_type": "code",
   "execution_count": null,
   "metadata": {},
   "outputs": [],
   "source": [
    "@load joinpath(MODEL_DIR, \"model.jld2\") model\n",
    "model.nn"
   ]
  },
  {
   "cell_type": "code",
   "execution_count": null,
   "metadata": {},
   "outputs": [],
   "source": [
    "println(\"KL divergence\")\n",
    "#println(\"train \", mean_loss(train_data..., model; loss=loss_kldivergence))\n",
    "#println(\"valid \", mean_loss(valid_data..., model; loss=loss_kldivergence))\n",
    "println(\"test \", mean_loss(test_data..., model; loss=loss_kldivergence))\n",
    "\n",
    "println(\"Hellinger distance\")\n",
    "#println(\"train \", mean_loss(train_data..., model; loss=loss_hellinger))\n",
    "#println(\"valid \", mean_loss(valid_data..., model; loss=loss_hellinger))\n",
    "println(\"test \", mean_loss(test_data..., model; loss=loss_hellinger))"
   ]
  },
  {
   "cell_type": "markdown",
   "metadata": {},
   "source": [
    "## Example distributions"
   ]
  },
  {
   "cell_type": "code",
   "execution_count": null,
   "metadata": {},
   "outputs": [],
   "source": [
    "#ind = rand(1:length(X_train)); plot_dist(X_train[ind], train_data, model)\n",
    "#ind = rand(1:length(X_valid)); plot_dist(X_valid[ind], valid_data, model)\n",
    "ind = rand(1:length(X_test)); plot_dist(X_test[ind], test_data, model)\n",
    "plot!(leg=false)"
   ]
  },
  {
   "cell_type": "code",
   "execution_count": null,
   "metadata": {},
   "outputs": [],
   "source": [
    "ind = 7816; plot_dist(X_test[ind], test_data, model)"
   ]
  },
  {
   "cell_type": "code",
   "execution_count": null,
   "metadata": {},
   "outputs": [],
   "source": [
    "# set up SSA\n",
    "\n",
    "@variables t G_uA(t) G_uB(t) P_A(t) P_B(t)\n",
    "u0 = zeros(Int, numspecies(rn))\n",
    "u0[[speciesmap(rn)[i] for i in (G_uA, G_uB)]] .= 1\n",
    "\n",
    "jsys = convert(JumpSystem, rn, combinatoric_ratelaw=false)           \n",
    "dprob = DiscreteProblem(jsys, u0, (0.0, 100.0), zeros(Float64, numreactionparams(rn)))\n",
    "jprob = JumpProblem(jsys, dprob, Direct(), save_positions=(false, false))\n",
    "\n",
    "idx = speciesmap(rn)[P_B]   # target protein\n",
    "solver(ts, p) = ssa_solve(jprob, ts, p, 100000; marginals=[idx])"
   ]
  },
  {
   "cell_type": "code",
   "execution_count": null,
   "metadata": {},
   "outputs": [],
   "source": [
    "# rounded X_test[4035]\n",
    "p = Float32.([0.0005, 0.07, 0.00016, 0.068, 367.3, 119.9, 5.3, 14.36, 1.35, 413.2, 472.3, 11.9, 1.74, 0.98, 0.43, 65.6])\n",
    "t = 35f0\n",
    "ps = vcat(t, p)\n",
    "\n",
    "@time _data = build_dataset([t], [p], solver)\n",
    "@save joinpath(MODEL_DIR, \"example_SSA_1.jld2\") _data"
   ]
  },
  {
   "cell_type": "code",
   "execution_count": null,
   "metadata": {},
   "outputs": [],
   "source": [
    "@load joinpath(MODEL_DIR, \"example_SSA_1.jld2\") _data\n",
    "plt1 = plot_dist(_data[1][1], _data, model; true_label=\"SSA\")\n",
    "plt1 = plot!(plt1, xlabel=\"\", ylabel=\"Probability\", title=\"\", leg=false,\n",
    "             yticks=false, xticks = (1000:1000:3000, [1000, 2000, 3000]), xlims=(1000, 3300),\n",
    "             left_margin=4Plots.mm)   #size=(250, 300)"
   ]
  },
  {
   "cell_type": "code",
   "execution_count": null,
   "metadata": {},
   "outputs": [],
   "source": [
    "# rounded X_test[16170]\n",
    "p = Float32.([0.0003, 0.018, 0.00002, 0.02, 222.3, 474.9, 3.98, 6.96, 0.68, 359.9, 82.1, 4.2, 7.13, 0.1, 0.41, 68.4])\n",
    "t = 70f0\n",
    "\n",
    "ps = vcat(t, p)\n",
    "@time _data = build_dataset([t], [p], solver)\n",
    "@save joinpath(MODEL_DIR, \"example_SSA_2.jld2\") _data"
   ]
  },
  {
   "cell_type": "code",
   "execution_count": null,
   "metadata": {},
   "outputs": [],
   "source": [
    "@load joinpath(MODEL_DIR, \"example_SSA_2.jld2\") _data\n",
    "plt2 = plot_dist(_data[1][1], _data, model; true_label=\"SSA\")\n",
    "plt2 = plot!(plt2, xlabel=\"Protein B number\", ylabel=\"\", title=\"\", leg=:topleft,\n",
    "             yticks=false, #size=(350, 300),\n",
    "             left_margin=-1Plots.mm)"
   ]
  },
  {
   "cell_type": "code",
   "execution_count": null,
   "metadata": {},
   "outputs": [],
   "source": [
    "# rounded X_test[13600]\n",
    "p = Float32.([0.0002, 0.005, 0.00035, 0.046, 371.2, 69.1, 7.1, 13.9, 0.87, 128.0, 452.7, 8.4, 11.98, 1.1, 0.2, 72.6])\n",
    "t = 100f0\n",
    "\n",
    "ps = vcat(t, p)\n",
    "@time _data = build_dataset([t], [p], solver)\n",
    "@save joinpath(MODEL_DIR, \"example_SSA_3.jld2\") _data"
   ]
  },
  {
   "cell_type": "code",
   "execution_count": null,
   "metadata": {},
   "outputs": [],
   "source": [
    "@load joinpath(MODEL_DIR, \"example_SSA_3.jld2\") _data\n",
    "plt3 = plot_dist(_data[1][1], _data, model; true_label=\"SSA\")\n",
    "plt3 = plot!(plt3, xlabel=\"\", ylabel=\"\", title=\"\", leg=false,\n",
    "             yticks=false, #size=(350, 300),\n",
    "             left_margin=-1Plots.mm)"
   ]
  },
  {
   "cell_type": "code",
   "execution_count": null,
   "metadata": {},
   "outputs": [],
   "source": [
    "# rounded X_test[7816]\n",
    "p = Float32.([0.0002, 0.06, 0.00048, 0.095, 328.3, 190.2, 11.1, 15.84, 1.01, 467.9, 11.3, 8.7, 13.91, 1.14, 0.17, 92.2])\n",
    "t = 16f0\n",
    "ps = vcat(t, p)\n",
    "\n",
    "@time _data = build_dataset([t], [p], solver)\n",
    "@save joinpath(MODEL_DIR, \"example_SSA_4.jld2\") _data"
   ]
  },
  {
   "cell_type": "code",
   "execution_count": null,
   "metadata": {},
   "outputs": [],
   "source": [
    "@load joinpath(MODEL_DIR, \"example_SSA_4.jld2\") _data\n",
    "plt4 = plot_dist(_data[1][1], _data, model; true_label=\"SSA\")\n",
    "plt4 = plot!(plt4, xlabel=\"\", ylabel=\"\", title=\"\", leg=false,\n",
    "             yticks=false, #xticks = (1000:1000:3000, [1000, 2000, 3000]), xlims=(1000, 3300),\n",
    "             left_margin=0Plots.mm)   #size=(250, 300)"
   ]
  },
  {
   "cell_type": "code",
   "execution_count": null,
   "metadata": {},
   "outputs": [],
   "source": [
    "l = @layout [a b c d]\n",
    "#l = @layout [a{0.25w} b c]\n",
    "#plt = plot(plt1, plt2, plt3, layout=l, size=(350, 110), bottom_margin=0Plots.mm, top_margin=-2Plots.mm,\n",
    "#           guidefontsize=6, tickfontsize=6, legendfontsize=6, thickness_scaling=1.0, left_margin=1Plots.mm, right_margin=-2Plots.mm,\n",
    "#           foreground_color_legend = nothing, fmt=:svg)\n",
    "plt = plot(plt1, plt4, plt2, plt3, layout=l, size=(590, 120), bottom_margin=2Plots.mm, top_margin=-2Plots.mm,\n",
    "           guidefontsize=6, tickfontsize=6, legendfontsize=6, thickness_scaling=1.0, left_margin=3.5Plots.mm, right_margin=-2Plots.mm,\n",
    "           foreground_color_legend = nothing, fmt=:svg)"
   ]
  },
  {
   "cell_type": "code",
   "execution_count": null,
   "metadata": {},
   "outputs": [],
   "source": [
    "savefig(joinpath(MODEL_DIR, \"example_dists.svg\"))"
   ]
  },
  {
   "cell_type": "markdown",
   "metadata": {},
   "source": [
    "## Predicted vs true moments"
   ]
  },
  {
   "cell_type": "code",
   "execution_count": null,
   "metadata": {},
   "outputs": [],
   "source": [
    "# plotting points only for t=100\n",
    "ind = 100\n",
    "m = 100\n",
    "m_NN = mean.(Distribution.(Ref(model), X_test[ind:m:end]))\n",
    "var_NN = var.(Distribution.(Ref(model), X_test[ind:m:end]))\n",
    "\n",
    "m_SSA = [sum((0:length(y)-1) .* y) for y in y_test[ind:m:end]]\n",
    "var_SSA = [sum(((0:length(y)-1) .- m_SSA[i]) .^2  .* y) for (i, y) in enumerate(y_test[ind:m:end])];"
   ]
  },
  {
   "cell_type": "code",
   "execution_count": null,
   "metadata": {},
   "outputs": [],
   "source": [
    "scale = 1e-3\n",
    "max_val = maximum(vcat(m_SSA, m_NN))* 1.025 * scale\n",
    "xticks = (0:0.5:2.5, [\"0\", (0.5:0.5:2.5)...])\n",
    "plt1 = plot(0:ceil(max_val), 0:ceil(max_val), linestyle=:dash, linecolor=:gray, linealpha=0.9, leg=false, \n",
    "             xlabel=\"Nessie\", ylabel=\"SSA\", title=\"Mean\")\n",
    "plt1 = scatter!(plt1, m_NN .* scale, m_SSA .*scale, grid = false, xlim=(0, max_val), ylim=(0, max_val), \n",
    "                markersize=2.5, markercolor=colorant\"#0088c3ff\", markerstrokecolor=colorant\"#0088c3ff\", \n",
    "                alpha=0.6, xticks=xticks, yticks=xticks)\n",
    "plt1 = plot!(plt1, guidefontsize=6, tickfontsize=6, titlefontsize=6, thickness_scaling=1.0, \n",
    "             framestyle=:box, tick_direction=:out, right_margin=5Plots.mm)\n",
    "plt1 = annotate!(plt1, [(-0.4, -0.4, Plots.text(\"×10³\", 6, :black, :center))])"
   ]
  },
  {
   "cell_type": "code",
   "execution_count": null,
   "metadata": {},
   "outputs": [],
   "source": [
    "scale = 1e-5\n",
    "max_val = 2.55 #maximum(vcat(var_SSA, var_NN)) * 1.025 * scale\n",
    "xticks = (0:0.5:2.5, [\"0\", (0.5:0.5:2.5)...])\n",
    "plt2 = plot(0:ceil(max_val), 0:ceil(max_val), linestyle=:dash, linecolor=:gray, linealpha=0.9, leg=false, \n",
    "            xlabel=\"Nessie\", ylabel=\"\", title=\"Variance\")\n",
    "plt2 = scatter!(plt2, var_NN .* scale, var_SSA .* scale, grid = false, xlim=(0, max_val), ylim=(0, max_val), \n",
    "                markersize=2.5, markercolor=colorant\"#0088c3ff\", markerstrokecolor=colorant\"#0088c3ff\", \n",
    "                alpha=0.6, xticks=xticks, yticks=xticks)\n",
    "plt2 = plot!(plt2, guidefontsize=6, tickfontsize=6, titlefontsize=6, thickness_scaling=1.0,\n",
    "             framestyle=:box, tick_direction=:out)\n",
    "plt2 = annotate!(plt2, [(-0.4, -0.4, Plots.text(\"×10⁵\", 6, :black, :center))])"
   ]
  },
  {
   "cell_type": "code",
   "execution_count": null,
   "metadata": {},
   "outputs": [],
   "source": [
    "plot(plt1, plt2, size=(290, 130), \n",
    "    left_margin=-1Plots.mm, bottom_margin=0Plots.mm, top_margin=-1Plots.mm, right_margin=2Plots.mm)"
   ]
  },
  {
   "cell_type": "code",
   "execution_count": null,
   "metadata": {},
   "outputs": [],
   "source": [
    "savefig(joinpath(MODEL_DIR, \"true_vs_predict_moments.svg\"))"
   ]
  },
  {
   "cell_type": "markdown",
   "metadata": {},
   "source": [
    "## Interpolation in time"
   ]
  },
  {
   "cell_type": "code",
   "execution_count": null,
   "metadata": {},
   "outputs": [],
   "source": [
    "m = 100; l = length(X_test)\n",
    "tpts = [2, 4, 10, 16, 32, 50, 74, 100]\n",
    "\n",
    "@time accs = map(1:m) do i\n",
    "    inds = i:m:l\n",
    "    mean_loss(X_test[inds], y_test[inds], model; loss=loss_hellinger)\n",
    "end;"
   ]
  },
  {
   "cell_type": "code",
   "execution_count": null,
   "metadata": {},
   "outputs": [],
   "source": [
    "# Hellinger distance is really high for t < 4\n",
    "plt = vline(tpts, linestyle=:dash, alpha=0.9, lw=1.5, color=:gray)\n",
    "plt = plot!(plt, 1:m, accs[1:end], ylims=(0.03, 0.047), xlims=(0., 100.5), color=1, lw = 2, \n",
    "            xlabel=\"Time\", ylabel=\"Hellinger distance\", grid=false, leg=false, xminorticks=5)\n",
    "inds = [4, 9, 25, 59, 88]\n",
    "plt = scatter!(plt, inds, accs[inds], color=:red, markerstrokecolor=:red)\n",
    "plt = plot!(size=(800, 300), tick_orientation=:out, guidefontsize=8, tickfontsize=8, thickness_scaling=1.5,\n",
    "            bottom_margin=0Plots.mm, right_margin=0Plots.mm, top_margin=-2Plots.mm, left_margin=-5Plots.mm)"
   ]
  },
  {
   "cell_type": "code",
   "execution_count": null,
   "metadata": {},
   "outputs": [],
   "source": [
    "# Hellinger distance is really high for t < 4\n",
    "plt = vline(tpts, linestyle=:dash, alpha=0.9, lw=1.5, color=:gray)\n",
    "plt = plot!(plt, 1:m, accs[1:end], ylims=(0.03, 0.047), xlims=(0., 100.5), color=colorant\"#0d89c4\", lw = 1.5, \n",
    "            xlabel=\"Time\", ylabel=\"Hellinger distance\", grid=false, leg=false, xminorticks=5)\n",
    "inds = [4, 9, 25, 59, 88]\n",
    "plt = scatter!(plt, inds, accs[inds], color=colorant\"#bb6972\", markerstrokecolor=colorant\"#bb6972\", markerstrokewidth=1.0)\n",
    "plt = plot!(size=(350, 130), tick_orientation=:out,\n",
    "            guidefontsize=6, tickfontsize=6, thickness_scaling=1.0,\n",
    "            bottom_margin=0Plots.mm, right_margin=0Plots.mm, top_margin=-1Plots.mm, left_margin=0Plots.mm)"
   ]
  },
  {
   "cell_type": "code",
   "execution_count": null,
   "metadata": {},
   "outputs": [],
   "source": [
    "savefig(joinpath(MODEL_DIR, \"hell_vs_time.svg\"))"
   ]
  },
  {
   "cell_type": "code",
   "execution_count": null,
   "metadata": {},
   "outputs": [],
   "source": [
    "function plot_ts(ind, tinds, data)\n",
    "    ind = ind*m\n",
    "    plts = []\n",
    "    #legend=true\n",
    "    for i in tinds\n",
    "        #legend = i == tinds[2] ? true : false\n",
    "        legend = false\n",
    "        ylabel = i == tinds[1] ? \"Probability\" : \"\"\n",
    "        xlabel = i == tinds[3] ? \"Protein B number\" : \"\"\n",
    "        left_margin = i == tinds[1] ? 2Plots.mm : 0Plots.mm\n",
    "        plt = plot_dist(data[1][ind+i], data, model, legend=legend, title=\"\", xlims=(0., 325),\n",
    "                ylabel=ylabel, xlabel=xlabel, yticks=false, left_margin=left_margin)\n",
    "        y = ylims(plt)[2] * 0.92\n",
    "        x = xlims(plt)[2] * 0.16\n",
    "        plt = annotate!(plt, [(x, y, Plots.text(\"t = $i\", 6, :black, :center))])\n",
    "        push!(plts, plt)\n",
    "    end\n",
    "    plot(plts..., fmt=:svg, size=(600, 115), layout = (1, length(plts)), \n",
    "         guidefontsize=6, tickfontsize=6, legendfontsize=6, thickness_scaling=1.0,\n",
    "         bottom_margin=2Plots.mm, top_margin=0Plots.mm, left_margin=4Plots.mm, right_margin=-2Plots.mm)\n",
    "end"
   ]
  },
  {
   "cell_type": "code",
   "execution_count": null,
   "metadata": {},
   "outputs": [],
   "source": [
    "ind = 112\n",
    "plt = plot_ts(ind, inds, test_data)"
   ]
  },
  {
   "cell_type": "code",
   "execution_count": null,
   "metadata": {},
   "outputs": [],
   "source": [
    "solver(ts, p) = ssa_solve(jprob, ts, p, 100000; marginals=[idx])"
   ]
  },
  {
   "cell_type": "code",
   "execution_count": null,
   "metadata": {},
   "outputs": [],
   "source": [
    "# rounded X_test[11200]\n",
    "p = Float32.([0.0004, 0.06, 0.00022, 0.0034, 269.7, 61.3, 8.02, 9.46, 1.78, 307.7, 351.2, 10.1, 12.27, 0.09, 0.38, 85.6])\n",
    "ts = 1:1:100\n",
    "\n",
    "@time _data = build_dataset(ts, [p], solver)\n",
    "@save joinpath(MODEL_DIR, \"SSA_time_dists.jld2\") _data"
   ]
  },
  {
   "cell_type": "code",
   "execution_count": null,
   "metadata": {},
   "outputs": [],
   "source": [
    "@load joinpath(MODEL_DIR, \"SSA_time_dists.jld2\") _data"
   ]
  },
  {
   "cell_type": "code",
   "execution_count": null,
   "metadata": {},
   "outputs": [],
   "source": [
    "plot_ts(0, inds, _data)"
   ]
  },
  {
   "cell_type": "code",
   "execution_count": null,
   "metadata": {},
   "outputs": [],
   "source": [
    "savefig(joinpath(MODEL_DIR, \"time_dists.svg\"))"
   ]
  },
  {
   "cell_type": "markdown",
   "metadata": {},
   "source": [
    "## Sensitivity Analysis"
   ]
  },
  {
   "cell_type": "code",
   "execution_count": null,
   "metadata": {},
   "outputs": [],
   "source": [
    "function model_FF(model, ts, p)\n",
    "    m = [mean(model, vcat(t, p)) for t in ts]\n",
    "    v = [var(model, vcat(t, p)) for t in ts]\n",
    "    v ./ m\n",
    "end"
   ]
  },
  {
   "cell_type": "code",
   "execution_count": null,
   "metadata": {},
   "outputs": [],
   "source": [
    "log_sens_model(model, t::Number, p) = vcat(log_sens_model(model, [t], p)...)\n",
    "\n",
    "function log_sens_model(model, ts::AbstractArray, p)\n",
    "    # logarithmic sensitivities of the form (pᵢ/FF)*(∂FF/∂pᵢ)\n",
    "    res = Flux.jacobian(x -> model_FF(model, ts, x), p)\n",
    "    x, dx = model_FF(model, ts, p), res[1]\n",
    "    dx ./ x .* p'\n",
    "end"
   ]
  },
  {
   "cell_type": "code",
   "execution_count": null,
   "metadata": {},
   "outputs": [],
   "source": [
    "using Sobol\n",
    "\n",
    "ranges = [ 0   0.0005  # σ_bB \n",
    "           0   0.1     # σ_uB\n",
    "           0   0.0005  # σ_bA\n",
    "           0   0.1     # σ_uA\n",
    "           0   500     # ρ_uA\n",
    "           0   500     # ρ_bA\n",
    "           0   12      # γ_A \n",
    "           1   20      # δ_mA  \n",
    "           0   2       # δ_p\n",
    "           0   500     # ρ_uB\n",
    "           0   500     # ρ_bB \n",
    "           0   12      # γ_B\n",
    "           1   20      # δ_mB\n",
    "           0   2       # σ_uM\n",
    "           0   0.5     # σ_bM\n",
    "           0   100     # δ_pm   \n",
    "         ]\n",
    "\n",
    "s = SobolSeq(ranges[:,1], ranges[:,2])\n",
    "x_data = [ Sobol.next!(s) for i in 1:100000 ];"
   ]
  },
  {
   "cell_type": "code",
   "execution_count": null,
   "metadata": {},
   "outputs": [],
   "source": [
    "@time model_FF(model, [100f0], x_data[1])"
   ]
  },
  {
   "cell_type": "code",
   "execution_count": null,
   "metadata": {},
   "outputs": [],
   "source": [
    "@time log_sens_model(model, [100f0], x_data[1])"
   ]
  },
  {
   "cell_type": "code",
   "execution_count": null,
   "metadata": {},
   "outputs": [],
   "source": [
    "xs = @time log_sens_model.(Ref(model), Ref(100f0), x_data[1:end]);"
   ]
  },
  {
   "cell_type": "code",
   "execution_count": null,
   "metadata": {},
   "outputs": [],
   "source": [
    "max_xs = [argmax(abs.(x)) for x in xs] \n",
    "min_xs = [argmin(abs.(x)) for x in xs]\n",
    "\n",
    "list = countmap(max_xs)\n",
    "most_s = zeros(Int, numreactionparams(rn))\n",
    "for i in 1:length(most_s)\n",
    "    if haskey(list, i)\n",
    "        most_s[i] = list[i]\n",
    "    else\n",
    "        most_s[i] = 0\n",
    "    end\n",
    "end\n",
    "\n",
    "list = countmap(min_xs)\n",
    "least_s = zeros(Int, numreactionparams(rn))\n",
    "for i in 1:length(least_s)\n",
    "    if haskey(list, i)\n",
    "        least_s[i] = list[i]\n",
    "    else\n",
    "        least_s[i] = 0\n",
    "    end\n",
    "end\n",
    "\n",
    "syms = string.(reactionparams(rn));"
   ]
  },
  {
   "cell_type": "code",
   "execution_count": null,
   "metadata": {},
   "outputs": [],
   "source": [
    "cmap_new = [ colorant\"#0d89c4\", colorant\"#2996cb\", colorant\"#46a4d2\", colorant\"#63b2d9\", colorant\"#80c0e0\", \n",
    "             colorant\"#9dcee7\", colorant\"#badcee\", colorant\"#d7eaf5\", colorant\"#f4f8fc\", colorant\"#eae0e5\", \n",
    "             colorant\"#e1c8ce\", colorant\"#d7b0b7\", colorant\"#ce99a0\", colorant\"#c58189\", colorant\"#bb6972\", \n",
    "             colorant\"#b2515b\", colorant\"#a93a45\" ]"
   ]
  },
  {
   "cell_type": "code",
   "execution_count": null,
   "metadata": {},
   "outputs": [],
   "source": [
    "using Plots: partialcircle\n",
    "\n",
    "@recipe function f(::Type{Val{:pie}}, x, y, c)\n",
    "    framestyle --> :none\n",
    "    aspect_ratio --> true\n",
    "    s = sum(y)\n",
    "    θ = π/2\n",
    "    for i in eachindex(y)\n",
    "        θ_new = θ + 2π * y[i] / s\n",
    "        coords = [(0.0, 0.0); partialcircle(θ, θ_new, 100)]\n",
    "        @series begin\n",
    "            seriestype := :shape\n",
    "            linecolor := :black\n",
    "            seriescolor := cmap[i]\n",
    "            label --> string(x[i])\n",
    "            x := first.(coords)\n",
    "            y := last.(coords)\n",
    "        end\n",
    "        θ = θ_new\n",
    "    end\n",
    "end"
   ]
  },
  {
   "cell_type": "code",
   "execution_count": null,
   "metadata": {},
   "outputs": [],
   "source": [
    "    cmap = cmap_new\n",
    "    inds = sortperm(most_s, rev=true)\n",
    "    p1 = pie(syms[inds], most_s[inds], lw=0.3, title=\"Most sensitive\")"
   ]
  },
  {
   "cell_type": "code",
   "execution_count": null,
   "metadata": {},
   "outputs": [],
   "source": [
    "cmap = reverse(cmap_new)\n",
    "inds = sortperm(least_s, rev=true)\n",
    "p2 = pie(syms[inds], least_s[inds], lw=0.3, title=\"Least sensitive\")"
   ]
  },
  {
   "cell_type": "code",
   "execution_count": null,
   "metadata": {},
   "outputs": [],
   "source": [
    "plot(p1, p2, size=(290, 110), titlefontsize=6, leg=false,\n",
    "    left_margin=-10Plots.mm, bottom_margin=-4Plots.mm, top_margin=-1Plots.mm, right_margin=-2Plots.mm)"
   ]
  },
  {
   "cell_type": "code",
   "execution_count": null,
   "metadata": {},
   "outputs": [],
   "source": [
    "savefig(joinpath(MODEL_DIR, \"sensitivity_pies.svg\"))"
   ]
  }
 ],
 "metadata": {
  "kernelspec": {
   "display_name": "Julia (16 threads) 1.6.0",
   "language": "julia",
   "name": "julia-(16-threads)-1.6"
  },
  "language_info": {
   "file_extension": ".jl",
   "mimetype": "application/julia",
   "name": "julia",
   "version": "1.7.2"
  }
 },
 "nbformat": 4,
 "nbformat_minor": 4
}
